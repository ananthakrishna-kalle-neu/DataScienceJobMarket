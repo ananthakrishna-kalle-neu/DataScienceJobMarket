{
 "cells": [
  {
   "cell_type": "code",
   "execution_count": 11,
   "id": "3e0d0a78-3897-4bed-abc5-5926ecae70c8",
   "metadata": {},
   "outputs": [],
   "source": [
    "import zipfile\n",
    "import kaggle\n",
    "import os"
   ]
  },
  {
   "cell_type": "code",
   "execution_count": 6,
   "id": "90d61213-b906-44c0-b533-fef5a1f3340d",
   "metadata": {},
   "outputs": [
    {
     "name": "stdout",
     "output_type": "stream",
     "text": [
      "data-scientist-job-market-in-the-us.zip: Skipping, found more recently modified local copy (use --force to force download)\n"
     ]
    }
   ],
   "source": [
    "!kaggle datasets download -d sl6149/data-scientist-job-market-in-the-us"
   ]
  },
  {
   "cell_type": "code",
   "execution_count": 12,
   "id": "b995fa1c-7a37-4e44-8357-cec197f0f0be",
   "metadata": {},
   "outputs": [],
   "source": [
    "zipfile_name = 'data-scientist-job-market-in-the-us.zip'\n",
    "target_directory = 'input'\n",
    "\n",
    "# Create the target directory if it doesn't exist\n",
    "if not os.path.exists(target_directory):\n",
    "    os.makedirs(target_directory)\n",
    "\n",
    "with zipfile.ZipFile(zipfile_name, 'r') as file:\n",
    "    file.extractall(target_directory)"
   ]
  },
  {
   "cell_type": "code",
   "execution_count": 13,
   "id": "d7688594-1543-4099-a464-8b1666a693f9",
   "metadata": {},
   "outputs": [],
   "source": [
    "import numpy as np\n",
    "import pandas as pd\n",
    "import matplotlib.pyplot as plt\n",
    "import plotly.graph_objs as go\n",
    "from wordcloud import WordCloud\n",
    "from matplotlib import colors "
   ]
  },
  {
   "cell_type": "code",
   "execution_count": 16,
   "id": "630993aa-7ef0-4fd7-93e9-4721c4385b6f",
   "metadata": {},
   "outputs": [],
   "source": [
    "df = pd.read_csv('input/alldata.csv')"
   ]
  },
  {
   "cell_type": "code",
   "execution_count": null,
   "id": "7fe6605d-4795-41ac-bf87-f1c3118d2440",
   "metadata": {},
   "outputs": [],
   "source": []
  }
 ],
 "metadata": {
  "kernelspec": {
   "display_name": "Python 3 (ipykernel)",
   "language": "python",
   "name": "python3"
  },
  "language_info": {
   "codemirror_mode": {
    "name": "ipython",
    "version": 3
   },
   "file_extension": ".py",
   "mimetype": "text/x-python",
   "name": "python",
   "nbconvert_exporter": "python",
   "pygments_lexer": "ipython3",
   "version": "3.10.9"
  }
 },
 "nbformat": 4,
 "nbformat_minor": 5
}
